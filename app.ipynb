{
 "cells": [
  {
   "cell_type": "code",
   "execution_count": 1,
   "metadata": {},
   "outputs": [
    {
     "name": "stderr",
     "output_type": "stream",
     "text": [
      "c:\\Users\\aumpa\\OneDrive\\Desktop\\Projects\\Chatbot_Hackthon\\Medical_Chatbot\\src\\helper.py:19: LangChainDeprecationWarning: The class `HuggingFaceEmbeddings` was deprecated in LangChain 0.2.2 and will be removed in 1.0. An updated version of the class exists in the :class:`~langchain-huggingface package and should be used instead. To use it run `pip install -U :class:`~langchain-huggingface` and import as `from :class:`~langchain_huggingface import HuggingFaceEmbeddings``.\n",
      "  return HuggingFaceEmbeddings(model_name='sentence-transformers/all-MiniLM-L6-v2')\n"
     ]
    },
    {
     "name": "stdout",
     "output_type": "stream",
     "text": [
      " * Serving Flask app '__main__'\n",
      " * Debug mode: off\n"
     ]
    },
    {
     "name": "stderr",
     "output_type": "stream",
     "text": [
      "WARNING: This is a development server. Do not use it in a production deployment. Use a production WSGI server instead.\n",
      " * Running on all addresses (0.0.0.0)\n",
      " * Running on http://127.0.0.1:5000\n",
      " * Running on http://192.168.142.159:5000\n",
      "Press CTRL+C to quit\n",
      "127.0.0.1 - - [13/Mar/2025 13:09:32] \"GET / HTTP/1.1\" 200 -\n",
      "127.0.0.1 - - [13/Mar/2025 13:09:32] \"GET /favicon.ico HTTP/1.1\" 404 -\n"
     ]
    },
    {
     "name": "stdout",
     "output_type": "stream",
     "text": [
      "User Input: i have fever what to do?\n"
     ]
    },
    {
     "name": "stderr",
     "output_type": "stream",
     "text": [
      "127.0.0.1 - - [13/Mar/2025 13:09:51] \"POST /get HTTP/1.1\" 200 -\n"
     ]
    },
    {
     "name": "stdout",
     "output_type": "stream",
     "text": [
      "AI Response: If you have a fever, it's important to stay hydrated and rest. Over-the-counter medications like acetaminophen (Tylenol) or ibuprofen (Advil) can help reduce fever and alleviate discomfort, but they should not be given to children without consulting a healthcare provider. If your fever is very high, lasts for more than a few days, or is accompanied by other symptoms such as severe headache, stiff neck, confusion, or difficulty breathing, seek medical attention immediately, as these could be signs of a serious infection. However, please note that while fever is a common symptom of many illnesses, it is not a disease itself, and its underlying cause should be diagnosed and treated by a healthcare professional.\n",
      "User Input: give me medication for fever\n"
     ]
    },
    {
     "name": "stderr",
     "output_type": "stream",
     "text": [
      "127.0.0.1 - - [13/Mar/2025 13:10:08] \"POST /get HTTP/1.1\" 200 -\n"
     ]
    },
    {
     "name": "stdout",
     "output_type": "stream",
     "text": [
      "AI Response: I'm an AI and cannot prescribe medication, but I can provide information. For fever management, over-the-counter options include acetaminophen (Tylenol) and ibuprofen (Advil). However, aspirin should not be given to children or adolescents due to the risk of Reye's syndrome. It's important to consult a healthcare professional for appropriate dosage and to ensure the fever is not a symptom of a more serious condition. Cool baths can also help alleviate high fevers. Remember, fevers are often the body's way of fighting infection, so they may not always need to be treated.\n"
     ]
    }
   ],
   "source": [
    "from flask import Flask, render_template, jsonify, request\n",
    "from src.helper import download_hugging_face_embeddings\n",
    "from langchain_pinecone import PineconeVectorStore\n",
    "from langchain_mistralai import ChatMistralAI\n",
    "from langchain.chains import create_retrieval_chain\n",
    "from langchain_core.prompts import ChatPromptTemplate\n",
    "from dotenv import load_dotenv\n",
    "import os\n",
    "\n",
    "# Initialize Flask app\n",
    "app = Flask(__name__)\n",
    "\n",
    "# Load environment variables\n",
    "load_dotenv()\n",
    "\n",
    "# Get API keys\n",
    "PINECONE_API_KEY = os.getenv(\"PINECONE_API_KEY\")\n",
    "MISTRAL_API_KEY = os.getenv(\"MISTRAL_API_KEY\")\n",
    "\n",
    "# Ensure API keys exist\n",
    "if not PINECONE_API_KEY or not MISTRAL_API_KEY:\n",
    "    print(\"Missing API keys! Check your .env file.\")\n",
    "    exit(1)\n",
    "\n",
    "# Download embeddings\n",
    "embeddings = download_hugging_face_embeddings()\n",
    "\n",
    "# Define Pinecone index name\n",
    "index_name = \"medicalbot\"\n",
    "\n",
    "# Load existing Pinecone index\n",
    "docsearch = PineconeVectorStore.from_existing_index(\n",
    "    index_name=index_name,\n",
    "    embedding=embeddings\n",
    ")\n",
    "retriever = docsearch.as_retriever(search_type=\"similarity\", search_kwargs={\"k\": 3})\n",
    "\n",
    "# Initialize LLM\n",
    "llm = ChatMistralAI(model=\"mistral-medium\", temperature=0.4, max_output_tokens=500)\n",
    "\n",
    "# Improved system prompt\n",
    "system_prompt = (\n",
    "    \"You are a highly knowledgeable and reliable AI assistant specializing in medical advice. \"\n",
    "    \"Your responses should be clear, accurate, and based on trusted medical sources. \"\n",
    "    \"Follow these guidelines while answering: \"\n",
    "    \"1] Fact-Based Responses: Use only the provided context and reliable knowledge. If unsure, say you don't know. \"\n",
    "    \"2] Concise & Professional: Provide answers in a structured, easy-to-understand format (3-5 sentences max). \"\n",
    "    \"3] Avoid Diagnosis: You are not a doctor. Provide general guidance but advise users to consult a professional for medical concerns. \"\n",
    "    \"4] Patient Safety First: Warn users about risks when discussing treatments, medications, or serious conditions. \"\n",
    "    \"Context: {context}\"\n",
    ")\n",
    "\n",
    "prompt = ChatPromptTemplate.from_messages(\n",
    "    [\n",
    "        (\"system\", system_prompt),\n",
    "        (\"human\", \"{input}\"),\n",
    "    ]\n",
    ")\n",
    "\n",
    "# Create RAG chain\n",
    "from langchain.chains.combine_documents import create_stuff_documents_chain\n",
    "question_answer_chain = create_stuff_documents_chain(llm, prompt)\n",
    "rag_chain = create_retrieval_chain(retriever, question_answer_chain)\n",
    "\n",
    "# Flask Routes\n",
    "@app.route(\"/\")\n",
    "def index():\n",
    "    return render_template(\"chatbot.html\")\n",
    "\n",
    "@app.route(\"/get\", methods=[\"POST\"])\n",
    "def chat():\n",
    "    msg = request.form.get(\"msg\", \"\").strip()\n",
    "\n",
    "    if not msg:\n",
    "        return jsonify(\"Empty message received!\")\n",
    "\n",
    "    print(f\"User Input: {msg}\")\n",
    "\n",
    "    try:\n",
    "        response = rag_chain.invoke({\"input\": msg})\n",
    "\n",
    "        # Ensure response exists and contains a valid answer\n",
    "        answer = response.get(\"answer\", \"\").strip()\n",
    "\n",
    "        if not answer or \"error\" in answer.lower():\n",
    "            answer = \"I'm sorry, but I don't know the answer to that.\"\n",
    "\n",
    "        # Clean up response to remove unwanted characters\n",
    "        answer = answer.replace(\"\\n\", \" \").replace(\"\\r\", \" \")\n",
    "        answer = answer.replace(\"{\", \"\").replace(\"}\", \"\").replace('\"', \"\")\n",
    "\n",
    "        print(f\"AI Response: {answer}\")\n",
    "        return jsonify(answer)\n",
    "\n",
    "    except Exception as e:\n",
    "        print(f\"Error processing AI response: {str(e)}\")\n",
    "        return jsonify(\"An error occurred while fetching the response. Please try again.\")\n",
    "\n",
    "# Run Flask app\n",
    "if __name__ == \"__main__\":\n",
    "    app.run(host=\"0.0.0.0\", port=5000)\n"
   ]
  }
 ],
 "metadata": {
  "kernelspec": {
   "display_name": "medibot",
   "language": "python",
   "name": "python3"
  },
  "language_info": {
   "codemirror_mode": {
    "name": "ipython",
    "version": 3
   },
   "file_extension": ".py",
   "mimetype": "text/x-python",
   "name": "python",
   "nbconvert_exporter": "python",
   "pygments_lexer": "ipython3",
   "version": "3.10.16"
  }
 },
 "nbformat": 4,
 "nbformat_minor": 2
}
